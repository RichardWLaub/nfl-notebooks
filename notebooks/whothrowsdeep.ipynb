{
 "cells": [
  {
   "cell_type": "code",
   "execution_count": 5,
   "id": "b887da1b-c52e-42d8-81bb-a6016f4275ae",
   "metadata": {},
   "outputs": [],
   "source": [
    "import pandas as pd\n",
    "import nfl_data_py as nfl"
   ]
  },
  {
   "cell_type": "code",
   "execution_count": 6,
   "id": "bd244be9-5310-4484-bf08-eef4edcf080d",
   "metadata": {},
   "outputs": [
    {
     "name": "stdout",
     "output_type": "stream",
     "text": [
      "2023 done.\n",
      "Downcasting floats.\n"
     ]
    }
   ],
   "source": [
    "pbp_py = nfl.import_pbp_data([2023])"
   ]
  },
  {
   "cell_type": "code",
   "execution_count": 7,
   "id": "cc581a99-6775-480f-a23a-1308497e6817",
   "metadata": {},
   "outputs": [],
   "source": [
    "filter_crit = 'play_type == \"pass\" & air_yards.notnull()'\n",
    "\n",
    "pbp_py_p = (\n",
    "    pbp_py.query(filter_crit)\n",
    "    .groupby([\"passer_id\", \"passer\"])\n",
    "    .agg({\"air_yards\": [\"count\", \"mean\"]})\n",
    ")"
   ]
  },
  {
   "cell_type": "code",
   "execution_count": 8,
   "id": "ffd79a84-238b-47ab-a31b-991e08dfc1ee",
   "metadata": {},
   "outputs": [
    {
     "name": "stdout",
     "output_type": "stream",
     "text": [
      "                                air_yards_count  air_yards_mean\n",
      "passer_id  passer                                              \n",
      "00-0039152 W.Levis                          253       10.624506\n",
      "00-0033319 N.Mullens                        147        9.387755\n",
      "00-0033537 D.Watson                         170        9.370588\n",
      "00-0033869 M.Trubisky                       106        9.273585\n",
      "00-0039163 C.Stroud                         547        8.978063\n",
      "00-0026158 J.Flacco                         250        8.896000\n",
      "00-0028118 T.Taylor                         174        8.862069\n",
      "00-0036389 J.Hurts                          573        8.574171\n",
      "00-0034855 B.Mayfield                       643        8.542768\n",
      "00-0031800 T.Heinicke                       134        8.477612\n",
      "00-0034857 J.Allen                          646        8.448916\n",
      "00-0034796 L.Jackson                        515        8.446602\n",
      "00-0036264 J.Love                           632        8.420886\n",
      "00-0037834 B.Purdy                          548        8.312044\n",
      "00-0038122 D.Ridder                         386        8.246114\n",
      "00-0033275 P.Walker                         110        8.200000\n",
      "00-0036971 T.Lawrence                       564        8.179078\n",
      "00-0031345 J.Garoppolo                      168        8.130953\n",
      "00-0036945 J.Fields                         370        8.002703\n",
      "00-0038108 B.Zappe                          211        7.981043\n",
      "00-0029701 R.Tannehill                      228        7.969298\n",
      "00-0033949 J.Dobbs                          417        7.961631\n",
      "00-0026498 M.Stafford                       554        7.884477\n",
      "00-0033077 D.Prescott                       650        7.847692\n",
      "00-0031280 D.Carr                           548        7.810219\n",
      "00-0036212 T.Tagovailoa                     597        7.658291\n",
      "00-0036355 J.Herbert                        456        7.653509\n",
      "00-0039150 B.Young                          526        7.621673\n",
      "00-0037077 S.Howell                         612        7.496732\n",
      "00-0038579 A.O'Connell                      342        7.488304\n",
      "00-0037013 Z.Wilson                         365        7.320548\n",
      "00-0035289 G.Minshew II                     490        7.304081\n",
      "00-0029604 K.Cousins                        309        7.284790\n",
      "00-0035228 K.Murray                         267        7.247191\n",
      "00-0029263 R.Wilson                         443        7.196388\n",
      "00-0034771 M.Rudolph                        112        7.142857\n",
      "00-0038102 K.Pickett                        323        7.083591\n",
      "00-0030565 G.Smith                          495        7.070707\n",
      "00-0036972 M.Jones                          345        6.985507\n",
      "00-0035282 E.Stick                          173        6.959538\n",
      "00-0035710 D.Jones                          160        6.850000\n",
      "00-0033106 J.Goff                           712        6.769663\n",
      "00-0033873 P.Mahomes                        744        6.513441\n",
      "00-0036442 J.Burrow                         363        6.465565\n",
      "00-0038476 T.DeVito                         178        6.455056\n",
      "00-0035100 J.Browning                       243        6.395061\n",
      "00-0038583 D.Thompson-Robinson              110        6.018182\n",
      "00-0038416 T.Bagent                         143        5.692307\n",
      "00-0032156 T.Siemian                        153        5.320261\n"
     ]
    }
   ],
   "source": [
    "pbp_py_p.columns = list(map(\"_\".join, pbp_py_p.columns.values))\n",
    "sort_crit = \"air_yards_count > 100\"\n",
    "print(\n",
    "    pbp_py_p.query(sort_crit)\\\n",
    "    .sort_values(by=\"air_yards_mean\", ascending=[False])\\\n",
    "    .to_string()\n",
    ")"
   ]
  },
  {
   "cell_type": "code",
   "execution_count": null,
   "id": "b27853e1-91fc-401f-96a5-320e4a488dd1",
   "metadata": {},
   "outputs": [],
   "source": []
  }
 ],
 "metadata": {
  "kernelspec": {
   "display_name": "Python 3 (ipykernel)",
   "language": "python",
   "name": "python3"
  },
  "language_info": {
   "codemirror_mode": {
    "name": "ipython",
    "version": 3
   },
   "file_extension": ".py",
   "mimetype": "text/x-python",
   "name": "python",
   "nbconvert_exporter": "python",
   "pygments_lexer": "ipython3",
   "version": "3.12.7"
  }
 },
 "nbformat": 4,
 "nbformat_minor": 5
}
