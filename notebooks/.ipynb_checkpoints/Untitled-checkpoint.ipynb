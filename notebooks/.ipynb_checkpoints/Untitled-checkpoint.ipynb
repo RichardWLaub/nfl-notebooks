{
 "cells": [
  {
   "cell_type": "code",
   "execution_count": null,
   "id": "f9f0f0b5-aac7-4aff-bcf7-bff98b2e9b1c",
   "metadata": {},
   "outputs": [],
   "source": []
  }
 ],
 "metadata": {
  "kernelspec": {
   "display_name": "Python 3 (ipykernel)",
   "language": "python",
   "name": "python3"
  },
  "language_info": {
   "codemirror_mode": {
    "name": "ipython",
    "version": 3
   },
   "file_extension": ".py",
   "mimetype": "text/x-python",
   "name": "python",
   "nbconvert_exporter": "python",
   "pygments_lexer": "ipython3",
   "version": "3.12.7"
  }
 },
 "nbformat": 4,
 "nbformat_minor": 5
}
