{
 "cells": [
  {
   "cell_type": "code",
   "execution_count": null,
   "id": "b887da1b-c52e-42d8-81bb-a6016f4275ae",
   "metadata": {},
   "outputs": [],
   "source": [
    "import pandas as pd\n",
    "import nfl_data_py as nfl"
   ]
  },
  {
   "cell_type": "code",
   "execution_count": null,
   "id": "bd244be9-5310-4484-bf08-eef4edcf080d",
   "metadata": {},
   "outputs": [],
   "source": [
    "pbp_py = nfl.import_pbp_data([2023])"
   ]
  },
  {
   "cell_type": "code",
   "execution_count": null,
   "id": "cc581a99-6775-480f-a23a-1308497e6817",
   "metadata": {},
   "outputs": [],
   "source": [
    "filter_crit = 'play_type == \"pass\" & air_yards.notnull()'\n",
    "\n",
    "pbp_py_p = (\n",
    "    pbp_py.query(filter_crit)\n",
    "    .groupby([\"passer_id\", \"passer\"])\n",
    "    .agg({\"air_yards\": [\"count\", \"mean\"]})\n",
    ")"
   ]
  },
  {
   "cell_type": "code",
   "execution_count": null,
   "id": "ffd79a84-238b-47ab-a31b-991e08dfc1ee",
   "metadata": {},
   "outputs": [],
   "source": [
    "pbp_py_p.columns = list(map(\"_\".join, pbp_py_p.columns.values))\n",
    "sort_crit = \"air_yards_count > 100\"\n",
    "print(\n",
    "    pbp_py_p.query(sort_crit)\\\n",
    "    .sort_values(by=\"air_yards_mean\", ascending=[False])\\\n",
    "    .to_string()\n",
    ")"
   ]
  },
  {
   "cell_type": "code",
   "execution_count": null,
   "id": "b27853e1-91fc-401f-96a5-320e4a488dd1",
   "metadata": {},
   "outputs": [],
   "source": []
  }
 ],
 "metadata": {
  "kernelspec": {
   "display_name": "Python 3 (ipykernel)",
   "language": "python",
   "name": "python3"
  },
  "language_info": {
   "codemirror_mode": {
    "name": "ipython",
    "version": 3
   },
   "file_extension": ".py",
   "mimetype": "text/x-python",
   "name": "python",
   "nbconvert_exporter": "python",
   "pygments_lexer": "ipython3",
   "version": "3.12.7"
  }
 },
 "nbformat": 4,
 "nbformat_minor": 5
}
