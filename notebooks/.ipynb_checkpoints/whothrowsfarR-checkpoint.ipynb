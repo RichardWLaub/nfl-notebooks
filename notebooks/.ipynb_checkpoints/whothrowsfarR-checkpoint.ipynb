{
 "cells": [
  {
   "cell_type": "code",
   "execution_count": 1,
   "id": "f6564433-4cea-472e-a165-d5c7fc1e6e08",
   "metadata": {},
   "outputs": [
    {
     "name": "stderr",
     "output_type": "stream",
     "text": [
      "── \u001b[1mAttaching core tidyverse packages\u001b[22m ──────────────────────────────────────────── tidyverse 2.0.0 ──\n",
      "\u001b[32m✔\u001b[39m \u001b[34mdplyr    \u001b[39m 1.1.4     \u001b[32m✔\u001b[39m \u001b[34mreadr    \u001b[39m 2.1.5\n",
      "\u001b[32m✔\u001b[39m \u001b[34mforcats  \u001b[39m 1.0.0     \u001b[32m✔\u001b[39m \u001b[34mstringr  \u001b[39m 1.5.1\n",
      "\u001b[32m✔\u001b[39m \u001b[34mggplot2  \u001b[39m 3.5.1     \u001b[32m✔\u001b[39m \u001b[34mtibble   \u001b[39m 3.2.1\n",
      "\u001b[32m✔\u001b[39m \u001b[34mlubridate\u001b[39m 1.9.3     \u001b[32m✔\u001b[39m \u001b[34mtidyr    \u001b[39m 1.3.1\n",
      "\u001b[32m✔\u001b[39m \u001b[34mpurrr    \u001b[39m 1.0.2     \n",
      "── \u001b[1mConflicts\u001b[22m ────────────────────────────────────────────────────────────── tidyverse_conflicts() ──\n",
      "\u001b[31m✖\u001b[39m \u001b[34mdplyr\u001b[39m::\u001b[32mfilter()\u001b[39m masks \u001b[34mstats\u001b[39m::filter()\n",
      "\u001b[31m✖\u001b[39m \u001b[34mdplyr\u001b[39m::\u001b[32mlag()\u001b[39m    masks \u001b[34mstats\u001b[39m::lag()\n",
      "\u001b[36mℹ\u001b[39m Use the conflicted package (\u001b[3m\u001b[34m<http://conflicted.r-lib.org/>\u001b[39m\u001b[23m) to force all conflicts to become errors\n"
     ]
    }
   ],
   "source": [
    "library(\"tidyverse\")\n",
    "library(\"nflfastR\")"
   ]
  },
  {
   "cell_type": "code",
   "execution_count": 2,
   "id": "f876f242-e89c-47b0-8a24-15ac40cfb103",
   "metadata": {},
   "outputs": [],
   "source": [
    "pbp_r <- load_pbp(2021)"
   ]
  },
  {
   "cell_type": "code",
   "execution_count": 3,
   "id": "984f388c-f2d1-4d7e-97cc-eb4d27dc8bc9",
   "metadata": {},
   "outputs": [],
   "source": [
    "pbp_r_p <-\n",
    "    pbp_r |>\n",
    "    filter(play_type == 'pass' & !is.na(air_yards))"
   ]
  },
  {
   "cell_type": "code",
   "execution_count": 4,
   "id": "7d38e41b-99d1-401f-b39b-849157a291c6",
   "metadata": {},
   "outputs": [
    {
     "name": "stderr",
     "output_type": "stream",
     "text": [
      "\u001b[1m\u001b[22m`summarise()` has grouped output by 'passer_id'. You can override using the `.groups` argument.\n"
     ]
    },
    {
     "name": "stdout",
     "output_type": "stream",
     "text": [
      "\u001b[90m# A tibble: 42 × 4\u001b[39m\n",
      "\u001b[90m# Groups:   passer_id [42]\u001b[39m\n",
      "   passer_id  passer               n  adot\n",
      "   \u001b[3m\u001b[90m<chr>\u001b[39m\u001b[23m      \u001b[3m\u001b[90m<chr>\u001b[39m\u001b[23m            \u001b[3m\u001b[90m<int>\u001b[39m\u001b[23m \u001b[3m\u001b[90m<dbl>\u001b[39m\u001b[23m\n",
      "\u001b[90m 1\u001b[39m 00-0035704 D.Lock             110 10.1 \n",
      "\u001b[90m 2\u001b[39m 00-0029263 R.Wilson           400  9.89\n",
      "\u001b[90m 3\u001b[39m 00-0036945 J.Fields           268  9.87\n",
      "\u001b[90m 4\u001b[39m 00-0034796 L.Jackson          378  9.35\n",
      "\u001b[90m 5\u001b[39m 00-0036389 J.Hurts            473  9.19\n",
      "\u001b[90m 6\u001b[39m 00-0034855 B.Mayfield         416  8.80\n",
      "\u001b[90m 7\u001b[39m 00-0026498 M.Stafford         740  8.51\n",
      "\u001b[90m 8\u001b[39m 00-0031503 J.Winston          161  8.32\n",
      "\u001b[90m 9\u001b[39m 00-0029604 K.Cousins          556  8.22\n",
      "\u001b[90m10\u001b[39m 00-0034857 J.Allen            708  8.22\n",
      "\u001b[90m11\u001b[39m 00-0031280 D.Carr             676  8.13\n",
      "\u001b[90m12\u001b[39m 00-0031237 T.Bridgewater      426  8.04\n",
      "\u001b[90m13\u001b[39m 00-0035228 K.Murray           515  7.97\n",
      "\u001b[90m14\u001b[39m 00-0019596 T.Brady            808  7.92\n",
      "\u001b[90m15\u001b[39m 00-0036971 T.Lawrence         599  7.91\n",
      "\u001b[90m16\u001b[39m 00-0036972 M.Jones            557  7.90\n",
      "\u001b[90m17\u001b[39m 00-0033077 D.Prescott         638  7.84\n",
      "\u001b[90m18\u001b[39m 00-0036442 J.Burrow           659  7.75\n",
      "\u001b[90m19\u001b[39m 00-0023459 A.Rodgers          556  7.74\n",
      "\u001b[90m20\u001b[39m 00-0031800 T.Heinicke         491  7.70\n",
      "\u001b[90m21\u001b[39m 00-0032950 C.Wentz            516  7.63\n",
      "\u001b[90m22\u001b[39m 00-0029701 R.Tannehill        554  7.61\n",
      "\u001b[90m23\u001b[39m 00-0035993 T.Huntley          185  7.61\n",
      "\u001b[90m24\u001b[39m 00-0033119 J.Brissett         224  7.60\n",
      "\u001b[90m25\u001b[39m 00-0037013 Z.Wilson           382  7.55\n",
      "\u001b[90m26\u001b[39m 00-0036355 J.Herbert          671  7.54\n",
      "\u001b[90m27\u001b[39m 00-0033357 T.Hill             132  7.51\n",
      "\u001b[90m28\u001b[39m 00-0028118 T.Taylor           149  7.43\n",
      "\u001b[90m29\u001b[39m 00-0030520 M.Glennon          164  7.38\n",
      "\u001b[90m30\u001b[39m 00-0035710 D.Jones            360  7.33\n",
      "\u001b[90m31\u001b[39m 00-0036898 D.Mills            392  7.32\n",
      "\u001b[90m32\u001b[39m 00-0031345 J.Garoppolo        511  7.31\n",
      "\u001b[90m33\u001b[39m 00-0034869 S.Darnold          405  7.24\n",
      "\u001b[90m34\u001b[39m 00-0026143 M.Ryan             559  7.16\n",
      "\u001b[90m35\u001b[39m 00-0032156 T.Siemian          187  7.11\n",
      "\u001b[90m36\u001b[39m 00-0033873 P.Mahomes          780  7.08\n",
      "\u001b[90m37\u001b[39m 00-0036212 T.Tagovailoa       387  7.07\n",
      "\u001b[90m38\u001b[39m 00-0027973 A.Dalton           235  6.99\n",
      "\u001b[90m39\u001b[39m 00-0027939 C.Newton           126  6.97\n",
      "\u001b[90m40\u001b[39m 00-0022924 B.Roethlisberger   647  6.78\n",
      "\u001b[90m41\u001b[39m 00-0033106 J.Goff             489  6.44\n",
      "\u001b[90m42\u001b[39m 00-0034401 M.White            132  5.92\n"
     ]
    }
   ],
   "source": [
    "pbp_r_p |>\n",
    "    group_by(passer_id, passer) |>\n",
    "    summarize(n = n(), adot = mean(air_yards)) |>\n",
    "    filter(n >= 100 & !is.na(passer)) |>\n",
    "    arrange(-adot) |>\n",
    "    print(n = Inf)"
   ]
  },
  {
   "cell_type": "code",
   "execution_count": null,
   "id": "0d07030d-bac2-4844-b201-d9c82b1127cd",
   "metadata": {},
   "outputs": [],
   "source": []
  }
 ],
 "metadata": {
  "kernelspec": {
   "display_name": "R",
   "language": "R",
   "name": "ir"
  },
  "language_info": {
   "codemirror_mode": "r",
   "file_extension": ".r",
   "mimetype": "text/x-r-source",
   "name": "R",
   "pygments_lexer": "r",
   "version": "4.4.2"
  }
 },
 "nbformat": 4,
 "nbformat_minor": 5
}
